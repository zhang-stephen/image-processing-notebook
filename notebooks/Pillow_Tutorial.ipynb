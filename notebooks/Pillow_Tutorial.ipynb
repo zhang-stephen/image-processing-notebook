{
 "cells": [
  {
   "cell_type": "markdown",
   "metadata": {},
   "source": [
    "# A Simple Tutorial of Pillow\n",
    "\n",
    "## Preface\n",
    "\n",
    "这份学习笔记主要使用python实现各种经典的图像处理算法，它们中的大部分，都会用到[pillow](https://pillow.readthedocs.io/en/stable/)作为算法的入口点。因此本篇是针对pillow的一份简单的tutorial。\n",
    "\n",
    "这里使用的图片托管于[sm.ms](https://smms.app)，在阅读此notebook之前，读者（包括我自己）应该按照[README.md](../README.md)中的说明将示例图片下载完毕：\n",
    "\n",
    "![example_00_girl.png](https://s2.loli.net/2023/06/18/JusarCDPVe27Roi.png)\n",
    "\n",
    "## Tutorial of Pillow\n",
    "\n",
    "pillow提供了一系列基于面向对象的图片操作，最基本的则是`PIL.Image`，它是一个通用的图像数据类。我们主要使用这个类提供的部分API。\n",
    "\n",
    "### 读取一幅图片并显示\n",
    "\n",
    "`imgtools`提供了一些动态的、便于使用的工具或者常量定义，这里主要使用`ASSETS_DIR`，它指向示例图片的存储位置。\n",
    "\n",
    "读取图片可以使用`PIL.Image.open()`："
   ]
  },
  {
   "cell_type": "code",
   "execution_count": null,
   "metadata": {
    "tags": []
   },
   "outputs": [],
   "source": [
    "from imgtools.utils import ASSETS_DIR\n",
    "from PIL import Image\n",
    "\n",
    "im = Image.open(ASSETS_DIR / '00_girl.png')"
   ]
  },
  {
   "attachments": {},
   "cell_type": "markdown",
   "metadata": {},
   "source": [
    "`Image`类提供了一系列属性，可以方便地访问图像的基本属性："
   ]
  },
  {
   "cell_type": "code",
   "execution_count": null,
   "metadata": {},
   "outputs": [],
   "source": [
    "print(f'{im.format}, {im.size}, {im.mode}')"
   ]
  },
  {
   "attachments": {},
   "cell_type": "markdown",
   "metadata": {},
   "source": [
    "可以看到，该图像是png格式；尺寸为$1024 \\times 1024$；`Image.mode`的值为`L`，表示这是一幅8-bit的灰度图像，该属性的其他取值见[Pillow - Concepts - Modes](https://pillow.readthedocs.io/en/stable/handbook/concepts.html#concept-modes)。\n",
    "\n",
    "但是在Jupyter Notebook中，更建议使用`display()`方法显示图像，而非`PIL.Image.show()`，因为后者会调用系统默认的图片查看器，而不是显示在notebook中。"
   ]
  },
  {
   "cell_type": "code",
   "execution_count": null,
   "metadata": {},
   "outputs": [],
   "source": [
    "display(im)"
   ]
  },
  {
   "attachments": {},
   "cell_type": "markdown",
   "metadata": {},
   "source": [
    "### 点运算\n",
    "\n",
    "点运算顾名思义，就是针对每个像素点的运算。\n",
    "\n",
    "假设用$r$表示原图像的像素，$s$表示经过点运算的像素，$T$表示算子，那么这一过程可以表示为：\n",
    "\n",
    "$$\n",
    "s = T(r) \\tag1\n",
    "$$\n",
    "\n",
    "例如，对这样一幅8位宽的图像求它的反色图像，就可以把算子表示为$T(x) = 255 - x$，在pillow中，可以通过`PIL.Image.point()`方法来执行这一操作："
   ]
  },
  {
   "cell_type": "code",
   "execution_count": null,
   "metadata": {},
   "outputs": [],
   "source": [
    "im_r = im.point(lambda pixel: 255 - pixel)\n",
    "display(im_r)"
   ]
  },
  {
   "attachments": {},
   "cell_type": "markdown",
   "metadata": {},
   "source": [
    "该方法接受一个函数对象，它应该能接受一个像素值作为参数，然后返回范围内的像素值，在情况不太复杂时，可以使用lambda函数简化代码。\n",
    "\n",
    "但是对于邻域运算，pillow并没有提供类似的简便方法，它也不能提供更复杂的显示方法。要实现复杂的矩阵运算和复杂的显示，需要结合[numpy](https://www.numpy.org.cn/reference/)和[matplotlib](https://matplotlib.org/)使用，下一部分将介绍如何将三者结合以发挥更大的作用。"
   ]
  }
 ],
 "metadata": {
  "kernelspec": {
   "display_name": "Python 3 (ipykernel)",
   "language": "python",
   "name": "python3"
  },
  "language_info": {
   "codemirror_mode": {
    "name": "ipython",
    "version": 3
   },
   "file_extension": ".py",
   "mimetype": "text/x-python",
   "name": "python",
   "nbconvert_exporter": "python",
   "pygments_lexer": "ipython3",
   "version": "3.10.11"
  }
 },
 "nbformat": 4,
 "nbformat_minor": 4
}
